{
 "cells": [
  {
   "cell_type": "code",
   "execution_count": 1,
   "metadata": {
    "collapsed": true
   },
   "outputs": [],
   "source": [
    "import csv\n",
    "import cv2\n",
    "import numpy as np\n",
    "import matplotlib.gridspec as gridspec\n",
    "import matplotlib.image as mpimg\n",
    "import matplotlib.pyplot as plt\n",
    "import os\n",
    "import sklearn\n",
    "from sklearn.utils import shuffle\n",
    "from sklearn.model_selection import train_test_split"
   ]
  },
  {
   "cell_type": "code",
   "execution_count": 2,
   "metadata": {},
   "outputs": [
    {
     "name": "stdout",
     "output_type": "stream",
     "text": [
      "--- CSV data loaded. ---\n",
      "Train Samples: 12914 \n",
      "Validation Samples: 3229\n"
     ]
    }
   ],
   "source": [
    "lines = []\n",
    "with open('driving_data/combined_data.csv') as csvfile:\n",
    "    reader = csv.reader(csvfile)\n",
    "    for line in reader:\n",
    "        lines.append(line)\n",
    "print(\"--- CSV data loaded. ---\")\n",
    "\n",
    "train_samples, validation_samples = train_test_split(lines, test_size=0.2)\n",
    "print(\"Train Samples: {} \\nValidation Samples: {}\".format(len(train_samples), len(validation_samples)))"
   ]
  },
  {
   "cell_type": "code",
   "execution_count": 3,
   "metadata": {
    "collapsed": true
   },
   "outputs": [],
   "source": [
    "def preprocess_image(img):\n",
    "    # NORMALIZE IMAGE\n",
    "#     img = img / 255 - 0.5\n",
    "    # CROP IMAGE\n",
    "#     crop = img[50:140,:,:]\n",
    "    # Resize to 64x64 ?\n",
    "    # image_array = cv2.resize(image_array, (64, 64))\n",
    "    return img"
   ]
  },
  {
   "cell_type": "code",
   "execution_count": 4,
   "metadata": {
    "collapsed": true
   },
   "outputs": [],
   "source": [
    "# def augment_data(images, measurements):\n",
    "#     augmented_images, augmented_measurements = [], []\n",
    "#     print(\"Augmenting dataset...\")\n",
    "    \n",
    "#     for image, measurement in zip(images, measurements):\n",
    "#         try:\n",
    "#             augmented_images.append(cv2.flip(image,1))\n",
    "#             augmented_measurements.append(measurement * -1.0)\n",
    "#             augmented_images.append(image)\n",
    "#             augmented_measurements.append(measurement)\n",
    "#         except:\n",
    "#             print(\"image None error occurred.\")\n",
    "            \n",
    "#     try:    \n",
    "#         print(\"Dataset Augmented!\")\n",
    "#         print(\"type(augmented_images): {}\".format(type(augmented_images)))\n",
    "#         print(\"type(augmented_images[0]: {}\".format(type(augmented_images[0])))\n",
    "#     except:\n",
    "#         pass\n",
    "#     return augmented_images, augmented_measurements"
   ]
  },
  {
   "cell_type": "code",
   "execution_count": 5,
   "metadata": {
    "collapsed": true
   },
   "outputs": [],
   "source": [
    "def brighten(img):\n",
    "    try:\n",
    "        img = cv2.cvtColor(img,cv2.COLOR_RGB2HSV)\n",
    "        rand = 0.25 + np.random.uniform()\n",
    "        img[:,:,2] = img[:,:,2]*rand\n",
    "        img = cv2.cvtColor(img,cv2.COLOR_HSV2RGB)\n",
    "    except:\n",
    "        pass\n",
    "    return img"
   ]
  },
  {
   "cell_type": "code",
   "execution_count": 6,
   "metadata": {
    "collapsed": true
   },
   "outputs": [],
   "source": [
    "def flip(img, angle):\n",
    "    img = (cv2.flip(img,1))\n",
    "    angle = angle * -1.0\n",
    "    return img, angle"
   ]
  },
  {
   "cell_type": "code",
   "execution_count": 7,
   "metadata": {
    "collapsed": true
   },
   "outputs": [],
   "source": [
    "def generator(samples, batch_size=32):\n",
    "    num_samples = len(samples)\n",
    "    while 1: # Loop forever so the generator never terminates\n",
    "        shuffle(samples)\n",
    "        for offset in range(0, num_samples, batch_size):\n",
    "            batch_samples = samples[offset:offset+batch_size]\n",
    "            \n",
    "            # catch error if img is loaded as None\n",
    "            # Keep old images. if new image failed to load load old image / angle so that generator exports \n",
    "                # 192 images per batch set\n",
    "            images = []\n",
    "            angles = []\n",
    "            flipped_img = []\n",
    "            flipped_angle = []\n",
    "            steering_angles = []\n",
    "            prev_imgs = []\n",
    "            prev_angles = []\n",
    "            for batch_sample in batch_samples:\n",
    "                correction = 0.24 # this is a parameter to tune\n",
    "                center_angle = float(batch_sample[3])\n",
    "                left_angle = center_angle + correction\n",
    "                right_angle = center_angle - correction\n",
    "                steering_angles.extend((center_angle, left_angle, right_angle)) \n",
    "#                 print(steering_angles)\n",
    "                \n",
    "                for i in range(3):\n",
    "                    name = '/home/carnd/P3-Behavioral-Cloning/driving_data/IMG/'+batch_sample[i].split('/')[-1]\n",
    "                    Image = cv2.imread(name)\n",
    "                    Image = brighten(Image)  # Randomly brighten image\n",
    "                    Image = preprocess_image(Image) # crop and normalize\n",
    "                    flipped_img, flipped_angle = flip(Image, steering_angles[i])\n",
    "\n",
    "                    \n",
    "                    # convert to gray?\n",
    "                    # possibly leave out some near zero steering angle data\n",
    "                    if i == 0:\n",
    "                        img_center = np.asarray(Image)\n",
    "                        center_flip = np.asarray(flipped_img)\n",
    "                        c_flip_angle = flipped_angle\n",
    "                    elif i == 1:\n",
    "                        img_left = np.asarray(Image)\n",
    "                        left_flip = np.asarray(flipped_img)\n",
    "                        l_flip_angle = flipped_angle\n",
    "                    else:\n",
    "                        img_right = np.asarray(Image)  \n",
    "                        right_flip = np.asarray(flipped_img)\n",
    "                        r_flip_angle = flipped_angle\n",
    "\n",
    "                try: \n",
    "                    noneTest = cv2.flip(img_center,1)\n",
    "                    noneTest = cv2.flip(img_left,1)\n",
    "                    noneTest = cv2.flip(img_right,1)\n",
    "                    images.extend((img_center, img_left, img_right, center_flip, left_flip, right_flip))\n",
    "                    angles.extend((center_angle, left_angle, right_angle, c_flip_angle, l_flip_angle, r_flip_angle))\n",
    "                    for i in range(-6, 0):\n",
    "                        prev_imgs.append(images[i])\n",
    "                        prev_angles.append(angles[i])\n",
    "                    \n",
    "                except:\n",
    "                    print(\"Exception importing data in generator fcn. Loading from last successfully loaded img\")\n",
    "                    for i in range(0,6):\n",
    "                        images.append(prev_imgs[i])\n",
    "                        angles.append(prev_angles[i])\n",
    "                    print(\"center, left, right: \\n{}\\n{}\\n{}\".format(img_center.shape, img_left.shape, img_right.shape))\n",
    "                steering_angles = []\n",
    "\n",
    "            X_train = np.array(images)\n",
    "            y_train = np.array(angles)\n",
    "#             print(\"Completed Batch\")\n",
    "#             print(\"Array shapes: \\nFeatures: {}\\nLabels: {}\".format(X_train.shape, y_train.shape))\n",
    "            yield sklearn.utils.shuffle(X_train, y_train)"
   ]
  },
  {
   "cell_type": "code",
   "execution_count": 8,
   "metadata": {
    "collapsed": true
   },
   "outputs": [],
   "source": [
    "train_generator = generator(train_samples, batch_size=32)\n",
    "validation_generator = generator(validation_samples, batch_size=32)\n",
    "\n",
    "ch, row, col = 3, 90, 320  # Trimmed image format"
   ]
  },
  {
   "cell_type": "code",
   "execution_count": 10,
   "metadata": {},
   "outputs": [
    {
     "name": "stderr",
     "output_type": "stream",
     "text": [
      "Using TensorFlow backend.\n",
      "/home/carnd/anaconda3/envs/carnd-term1/lib/python3.5/site-packages/ipykernel_launcher.py:22: UserWarning: Update your `Conv2D` call to the Keras 2 API: `Conv2D(24, (5, 5), strides=(2, 2), activation=\"relu\")`\n",
      "/home/carnd/anaconda3/envs/carnd-term1/lib/python3.5/site-packages/ipykernel_launcher.py:23: UserWarning: Update your `Conv2D` call to the Keras 2 API: `Conv2D(36, (5, 5), strides=(2, 2), activation=\"relu\")`\n",
      "/home/carnd/anaconda3/envs/carnd-term1/lib/python3.5/site-packages/ipykernel_launcher.py:24: UserWarning: Update your `Conv2D` call to the Keras 2 API: `Conv2D(48, (5, 5), strides=(2, 2), activation=\"relu\")`\n",
      "/home/carnd/anaconda3/envs/carnd-term1/lib/python3.5/site-packages/ipykernel_launcher.py:25: UserWarning: Update your `Conv2D` call to the Keras 2 API: `Conv2D(64, (3, 3), activation=\"relu\")`\n",
      "/home/carnd/anaconda3/envs/carnd-term1/lib/python3.5/site-packages/ipykernel_launcher.py:26: UserWarning: Update your `Conv2D` call to the Keras 2 API: `Conv2D(64, (3, 3), activation=\"relu\")`\n",
      "/home/carnd/anaconda3/envs/carnd-term1/lib/python3.5/site-packages/ipykernel_launcher.py:35: UserWarning: The semantics of the Keras 2 argument  `steps_per_epoch` is not the same as the Keras 1 argument `samples_per_epoch`. `steps_per_epoch` is the number of batches to draw from the generator at each epoch. Update your method calls accordingly.\n",
      "/home/carnd/anaconda3/envs/carnd-term1/lib/python3.5/site-packages/ipykernel_launcher.py:35: UserWarning: Update your `fit_generator` call to the Keras 2 API: `fit_generator(<generator..., epochs=5, validation_data=<generator..., verbose=1, validation_steps=192, steps_per_epoch=192)`\n"
     ]
    },
    {
     "name": "stdout",
     "output_type": "stream",
     "text": [
      "Epoch 1/5\n",
      "191/192 [============================>.] - ETA: 0s - loss: 0.0787Exception importing data in generator fcn. Loading from last successfully loaded img\n",
      "center, left, right: \n",
      "()\n",
      "(160, 320, 3)\n",
      "(160, 320, 3)\n",
      "Exception importing data in generator fcn. Loading from last successfully loaded img\n",
      "center, left, right: \n",
      "()\n",
      "(160, 320, 3)\n",
      "(160, 320, 3)\n",
      "192/192 [==============================] - 134s - loss: 0.0787 - val_loss: 0.0656\n",
      "Epoch 2/5\n",
      "191/192 [============================>.] - ETA: 0s - loss: 0.0675Exception importing data in generator fcn. Loading from last successfully loaded img\n",
      "center, left, right: \n",
      "()\n",
      "(160, 320, 3)\n",
      "(160, 320, 3)\n",
      "192/192 [==============================] - 128s - loss: 0.0674 - val_loss: 0.0629\n",
      "Epoch 3/5\n",
      "191/192 [============================>.] - ETA: 0s - loss: 0.0664Exception importing data in generator fcn. Loading from last successfully loaded img\n",
      "center, left, right: \n",
      "()\n",
      "(160, 320, 3)\n",
      "(160, 320, 3)\n",
      "Exception importing data in generator fcn. Loading from last successfully loaded img\n",
      "center, left, right: \n",
      "()\n",
      "(160, 320, 3)\n",
      "(160, 320, 3)\n",
      "192/192 [==============================] - 129s - loss: 0.0664 - val_loss: 0.0582\n",
      "Epoch 4/5\n",
      "191/192 [============================>.] - ETA: 0s - loss: 0.0572Exception importing data in generator fcn. Loading from last successfully loaded img\n",
      "center, left, right: \n",
      "()\n",
      "(160, 320, 3)\n",
      "(160, 320, 3)\n",
      "Exception importing data in generator fcn. Loading from last successfully loaded img\n",
      "center, left, right: \n",
      "()\n",
      "(160, 320, 3)\n",
      "(160, 320, 3)\n",
      "192/192 [==============================] - 129s - loss: 0.0572 - val_loss: 0.0534\n",
      "Epoch 5/5\n",
      "191/192 [============================>.] - ETA: 0s - loss: 0.0551Exception importing data in generator fcn. Loading from last successfully loaded img\n",
      "center, left, right: \n",
      "()\n",
      "(160, 320, 3)\n",
      "(160, 320, 3)\n",
      "Exception importing data in generator fcn. Loading from last successfully loaded img\n",
      "center, left, right: \n",
      "()\n",
      "(160, 320, 3)\n",
      "(160, 320, 3)\n",
      "192/192 [==============================] - 129s - loss: 0.0551 - val_loss: 0.0566\n",
      "dict_keys(['val_loss', 'loss'])\n"
     ]
    },
    {
     "data": {
      "image/png": "[encoded data removed]",
      "text/plain": [
       "<matplotlib.figure.Figure at 0x7f09b372aa58>"
      ]
     },
     "metadata": {},
     "output_type": "display_data"
    }
   ],
   "source": [
    "from keras.models import Sequential\n",
    "from keras.layers import Flatten, Dense, Lambda, Cropping2D\n",
    "from keras.layers import Convolution2D\n",
    "from keras.layers.pooling import MaxPooling2D\n",
    "from keras.models import Model\n",
    "\n",
    "model = Sequential()\n",
    "model.add(Lambda(lambda x: x / 255.0 - 0.5, input_shape=(160,320,3)))\n",
    "model.add(Cropping2D(cropping=((50,30), (0,0))))\n",
    "\n",
    "# LeNet Architecture\n",
    "# model.add(Convolution2D(6,5,5,input_shape=(90,320,3), activation=\"relu\"), )\n",
    "# model.add(MaxPooling2D())\n",
    "# model.add(Convolution2D(6,5,5,activation=\"relu\"))\n",
    "# model.add(MaxPooling2D())\n",
    "# model.add(Flatten())\n",
    "# model.add(Dense(120))\n",
    "# model.add(Dense(84))\n",
    "# model.add(Dense(1))\n",
    "\n",
    "# NVIDIA ARCHITECTURE\n",
    "model.add(Convolution2D(24,5,5, subsample=(2,2),activation='relu'))\n",
    "model.add(Convolution2D(36,5,5,subsample=(2,2),activation='relu'))\n",
    "model.add(Convolution2D(48,5,5,subsample=(2,2),activation='relu'))\n",
    "model.add(Convolution2D(64,3,3,activation='relu'))\n",
    "model.add(Convolution2D(64,3,3,activation='relu'))\n",
    "model.add(Flatten())\n",
    "model.add(Dense(100))\n",
    "model.add(Dense(50))\n",
    "model.add(Dense(10))\n",
    "model.add(Dense(1))\n",
    "\n",
    "model.compile(loss='mse', optimizer='adam')\n",
    "# model.fit(X_train, y_train, validation_split=0.2, shuffle=True, nb_epoch=5)\n",
    "history_object = model.fit_generator(train_generator, samples_per_epoch=192, validation_data=validation_generator, nb_val_samples=192, nb_epoch=5, verbose=1)\n",
    "\n",
    "### print the keys contained in the history object\n",
    "print(history_object.history.keys())\n",
    "\n",
    "### plot the training and validation loss for each epoch\n",
    "plt.plot(history_object.history['loss'])\n",
    "plt.plot(history_object.history['val_loss'])\n",
    "plt.title('model mean squared error loss')\n",
    "plt.ylabel('mean squared error loss')\n",
    "plt.xlabel('epoch')\n",
    "plt.legend(['training set', 'validation set'], loc='upper right')\n",
    "plt.show()\n",
    "\n",
    "model.save('model.h5')\n",
    "# import gc\n",
    "# gc.collect()"
   ]
  },
  {
   "cell_type": "code",
   "execution_count": null,
   "metadata": {
    "collapsed": true
   },
   "outputs": [],
   "source": []
  },
  {
   "cell_type": "code",
   "execution_count": null,
   "metadata": {
    "collapsed": true
   },
   "outputs": [],
   "source": []
  }
 ],
 "metadata": {
  "kernelspec": {
   "display_name": "Python 3",
   "language": "python",
   "name": "python3"
  },
  "language_info": {
   "codemirror_mode": {
    "name": "ipython",
    "version": 3
   },
   "file_extension": ".py",
   "mimetype": "text/x-python",
   "name": "python",
   "nbconvert_exporter": "python",
   "pygments_lexer": "ipython3",
   "version": "3.5.2"
  },
  "widgets": {
   "state": {},
   "version": "1.1.2"
  }
 },
 "nbformat": 4,
 "nbformat_minor": 2
}
