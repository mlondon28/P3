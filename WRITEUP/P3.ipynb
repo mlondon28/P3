{
 "cells": [
  {
   "cell_type": "code",
   "execution_count": 1,
   "metadata": {
    "collapsed": true,
    "deletable": true,
    "editable": true
   },
   "outputs": [],
   "source": [
    "import csv\n",
    "import cv2\n",
    "import numpy as np\n",
    "import matplotlib.gridspec as gridspec\n",
    "import matplotlib.image as mpimg\n",
    "import matplotlib.pyplot as plt\n",
    "import os\n",
    "import sklearn\n",
    "from sklearn.utils import shuffle\n",
    "from sklearn.model_selection import train_test_split"
   ]
  },
  {
   "cell_type": "code",
   "execution_count": 2,
   "metadata": {
    "collapsed": false,
    "deletable": true,
    "editable": true
   },
   "outputs": [
    {
     "name": "stdout",
     "output_type": "stream",
     "text": [
      "--- CSV data loaded. ---\n",
      "Train Samples: 6428 \n",
      "Validation Samples: 1608\n"
     ]
    }
   ],
   "source": [
    "lines = []\n",
    "folder = 'udacity_data' \n",
    "with open(folder+'/driving_log.csv') as csvfile:\n",
    "    reader = csv.reader(csvfile)\n",
    "    for line in reader:\n",
    "        lines.append(line)\n",
    "print(\"--- CSV data loaded. ---\")\n",
    "\n",
    "# Split the dataset into training samples and validation samples (80/20 split)\n",
    "train_samples, validation_samples = train_test_split(lines, test_size=0.2)\n",
    "print(\"Train Samples: {} \\nValidation Samples: {}\".format(len(train_samples), len(validation_samples)))"
   ]
  },
  {
   "cell_type": "code",
   "execution_count": 4,
   "metadata": {
    "collapsed": true,
    "deletable": true,
    "editable": true
   },
   "outputs": [],
   "source": [
    "def brighten(img):\n",
    "    try:\n",
    "        img = cv2.cvtColor(img,cv2.COLOR_RGB2HSV)\n",
    "        rand = 0.25 + np.random.uniform()\n",
    "        img[:,:,2] = img[:,:,2]*rand\n",
    "        img = cv2.cvtColor(img,cv2.COLOR_HSV2RGB)\n",
    "    except:\n",
    "        pass\n",
    "    return img"
   ]
  },
  {
   "cell_type": "code",
   "execution_count": 5,
   "metadata": {
    "collapsed": true,
    "deletable": true,
    "editable": true
   },
   "outputs": [],
   "source": [
    "def flip(img, angle):\n",
    "    try:\n",
    "        img = (cv2.flip(img,1))\n",
    "        angle = angle * -1.0\n",
    "    except:\n",
    "        pass\n",
    "    return img, angle"
   ]
  },
  {
   "cell_type": "code",
   "execution_count": 6,
   "metadata": {
    "collapsed": true,
    "deletable": true,
    "editable": true
   },
   "outputs": [],
   "source": [
    "def randomly_augment(row):\n",
    "    # get the angle from the CSV\n",
    "    angle = float(row[3])\n",
    "    # randomly choose which camera image to use\n",
    "    camera = np.random.choice(['center', 'left', 'right'])\n",
    "    \n",
    "    # Apply steering angle correction based on which image is chosen\n",
    "    if camera == 'left':\n",
    "        angle += 0.25\n",
    "        camera = 1\n",
    "    elif camera == 'right':\n",
    "        angle -= 0.25\n",
    "        camera = 2\n",
    "    else:\n",
    "        camera = 0\n",
    "        \n",
    "    # Load image from camera\n",
    "    name = '/home/carnd/P3-Behavioral-Cloning/'+folder+'/IMG/'+row[camera].split('/')[-1]\n",
    "    Image = cv2.imread(name)\n",
    "    \n",
    "    # Flip 50% of images\n",
    "    flip_prob = np.random.random()\n",
    "    if flip_prob >= 0.5:\n",
    "        try:\n",
    "            Image, angle = flip(Image, angle)\n",
    "        except:\n",
    "            print(\"--- Error flipping img in rand augment ---\")\n",
    "        \n",
    "    # Apply a random brightness to the image\n",
    "    Image = brighten(Image)\n",
    "    return Image, angle\n",
    "    "
   ]
  },
  {
   "cell_type": "code",
   "execution_count": 7,
   "metadata": {
    "collapsed": true,
    "deletable": true,
    "editable": true
   },
   "outputs": [],
   "source": [
    "def generator(samples, batch_size=32):\n",
    "    num_samples = len(samples)\n",
    "    while 1: # Loop forever so the generator never terminates\n",
    "        shuffle(samples)\n",
    "        for offset in range(0, num_samples, batch_size):\n",
    "            batch_samples = samples[offset:offset+batch_size]\n",
    "            \n",
    "            images = []\n",
    "            angles = []\n",
    "            for batch_sample in batch_samples:\n",
    "                # Generate and randomly augment an image from the current batch sample\n",
    "                Image, steering_angle = randomly_augment(batch_sample)\n",
    "\n",
    "                try: \n",
    "                    # I was having issues when attempting to flip some images. The images were not being read in\n",
    "                        # properly and so they were coming up as None. To alleviate this issue I threw in a \n",
    "                        # try / except to be able to move forward and continue with the model testing.\n",
    "                        # In retrospect - I believe the issue was that I was \n",
    "                    noneTest = cv2.flip(Image,1)\n",
    "                    images.append(Image)\n",
    "                    angles.append(steering_angle)\n",
    "                    \n",
    "                except:\n",
    "                    print(\"Exception importing data in generator fcn. \\nLoading from last successfully loaded img\")\n",
    "\n",
    "            X_train = np.array(images)\n",
    "            y_train = np.array(angles)\n",
    "            yield sklearn.utils.shuffle(X_train, y_train)"
   ]
  },
  {
   "cell_type": "code",
   "execution_count": 8,
   "metadata": {
    "collapsed": true,
    "deletable": true,
    "editable": true
   },
   "outputs": [],
   "source": [
    "# Init generator objects\n",
    "train_generator = generator(train_samples, batch_size=32)\n",
    "validation_generator = generator(validation_samples, batch_size=32)"
   ]
  },
  {
   "cell_type": "code",
   "execution_count": 9,
   "metadata": {
    "collapsed": false,
    "deletable": true,
    "editable": true
   },
   "outputs": [
    {
     "name": "stderr",
     "output_type": "stream",
     "text": [
      "Using TensorFlow backend.\n",
      "/home/carnd/anaconda3/envs/carnd-term1/lib/python3.5/site-packages/ipykernel_launcher.py:16: UserWarning: Update your `Conv2D` call to the Keras 2 API: `Conv2D(24, (5, 5), activation=\"relu\", strides=(2, 2))`\n",
      "  app.launch_new_instance()\n",
      "/home/carnd/anaconda3/envs/carnd-term1/lib/python3.5/site-packages/ipykernel_launcher.py:17: UserWarning: Update your `Conv2D` call to the Keras 2 API: `Conv2D(36, (5, 5), activation=\"relu\", strides=(2, 2))`\n",
      "/home/carnd/anaconda3/envs/carnd-term1/lib/python3.5/site-packages/ipykernel_launcher.py:18: UserWarning: Update your `Conv2D` call to the Keras 2 API: `Conv2D(48, (5, 5), activation=\"relu\", strides=(2, 2))`\n",
      "/home/carnd/anaconda3/envs/carnd-term1/lib/python3.5/site-packages/ipykernel_launcher.py:19: UserWarning: Update your `Conv2D` call to the Keras 2 API: `Conv2D(64, (3, 3), activation=\"relu\")`\n",
      "/home/carnd/anaconda3/envs/carnd-term1/lib/python3.5/site-packages/ipykernel_launcher.py:20: UserWarning: Update your `Conv2D` call to the Keras 2 API: `Conv2D(64, (3, 3), activation=\"relu\")`\n",
      "/home/carnd/anaconda3/envs/carnd-term1/lib/python3.5/site-packages/ipykernel_launcher.py:29: UserWarning: The semantics of the Keras 2 argument  `steps_per_epoch` is not the same as the Keras 1 argument `samples_per_epoch`. `steps_per_epoch` is the number of batches to draw from the generator at each epoch. Update your method calls accordingly.\n",
      "/home/carnd/anaconda3/envs/carnd-term1/lib/python3.5/site-packages/ipykernel_launcher.py:29: UserWarning: Update your `fit_generator` call to the Keras 2 API: `fit_generator(<generator..., verbose=1, validation_steps=480, validation_data=<generator..., steps_per_epoch=480, epochs=4)`\n"
     ]
    },
    {
     "name": "stdout",
     "output_type": "stream",
     "text": [
      "Epoch 1/4\n",
      "480/480 [==============================] - 84s - loss: 0.0313 - val_loss: 0.0278\n",
      "Epoch 2/4\n",
      "480/480 [==============================] - 82s - loss: 0.0246 - val_loss: 0.0212\n",
      "Epoch 3/4\n",
      "480/480 [==============================] - 82s - loss: 0.0217 - val_loss: 0.0208\n",
      "Epoch 4/4\n",
      "480/480 [==============================] - 83s - loss: 0.0212 - val_loss: 0.0206\n",
      "dict_keys(['loss', 'val_loss'])\n"
     ]
    },
    {
     "data": {
      "image/png": "[encoded data removed]",
      "text/plain": [
       "<matplotlib.figure.Figure at 0x7feb7f325e48>"
      ]
     },
     "metadata": {},
     "output_type": "display_data"
    }
   ],
   "source": [
    "from keras.models import Sequential\n",
    "from keras.layers import Flatten, Dense, Lambda, Cropping2D\n",
    "from keras.layers import Convolution2D\n",
    "from keras.layers.pooling import MaxPooling2D\n",
    "from keras.models import Model\n",
    "\n",
    "model = Sequential()\n",
    "\n",
    "# Added normalization and cropping to help the model have an easier time training \n",
    "# (cropped out extranneous img data)\n",
    "model.add(Lambda(lambda x: x / 255.0 - 0.5, input_shape=(160,320,3)))\n",
    "model.add(Cropping2D(cropping=((50,30), (0,0))))\n",
    "\n",
    "\n",
    "# NVIDIA ARCHITECTURE\n",
    "model.add(Convolution2D(24,5,5, subsample=(2,2),activation='relu'))\n",
    "model.add(Convolution2D(36,5,5,subsample=(2,2),activation='relu'))\n",
    "model.add(Convolution2D(48,5,5,subsample=(2,2),activation='relu'))\n",
    "model.add(Convolution2D(64,3,3,activation='relu'))\n",
    "model.add(Convolution2D(64,3,3,activation='relu'))\n",
    "model.add(Flatten())\n",
    "model.add(Dense(100))\n",
    "model.add(Dense(50))\n",
    "model.add(Dense(10))\n",
    "model.add(Dense(1))\n",
    "\n",
    "model.compile(loss='mse', optimizer='adam')\n",
    "# model.fit(X_train, y_train, validation_split=0.2, shuffle=True, nb_epoch=5)\n",
    "history_object = model.fit_generator(train_generator, samples_per_epoch=480, validation_data=validation_generator, nb_val_samples=480, nb_epoch=4, verbose=1)\n",
    "\n",
    "### print the keys contained in the history object\n",
    "print(history_object.history.keys())\n",
    "\n",
    "### plot the training and validation loss for each epoch\n",
    "plt.plot(history_object.history['loss'])\n",
    "plt.plot(history_object.history['val_loss'])\n",
    "plt.title('model mean squared error loss')\n",
    "plt.ylabel('mean squared error loss')\n",
    "plt.xlabel('epoch')\n",
    "plt.legend(['training set', 'validation set'], loc='upper right')\n",
    "plt.show()\n",
    "\n",
    "model.save('model.h5')\n",
    "# import gc\n",
    "# gc.collect()"
   ]
  }
 ],
 "metadata": {
  "kernelspec": {
   "display_name": "Python 3",
   "language": "python",
   "name": "python3"
  },
  "language_info": {
   "codemirror_mode": {
    "name": "ipython",
    "version": 3
   },
   "file_extension": ".py",
   "mimetype": "text/x-python",
   "name": "python",
   "nbconvert_exporter": "python",
   "pygments_lexer": "ipython3",
   "version": "3.5.2"
  },
  "widgets": {
   "state": {},
   "version": "1.1.2"
  }
 },
 "nbformat": 4,
 "nbformat_minor": 2
}
